{
 "cells": [
  {
   "cell_type": "code",
   "execution_count": 48,
   "id": "4d16ad8d",
   "metadata": {},
   "outputs": [],
   "source": [
    "import pandas as pd\n",
    "from google.cloud import bigquery\n",
    "import matplotlib.pyplot as plt"
   ]
  },
  {
   "cell_type": "code",
   "execution_count": 28,
   "id": "b6b1c21f",
   "metadata": {},
   "outputs": [
    {
     "name": "stderr",
     "output_type": "stream",
     "text": [
      "/home/ollie/.cache/pypoetry/virtualenvs/crane-E909CCJ5-py3.12/lib/python3.12/site-packages/google/cloud/bigquery/table.py:1957: UserWarning: BigQuery Storage module not found, fetch data with the REST endpoint instead.\n",
      "  warnings.warn(\n"
     ]
    }
   ],
   "source": [
    "# Path to your service account key file\n",
    "key_path = \"/home/ollie/.dbt/gcp_crane_service_account.json\"\n",
    "\n",
    "# Explicitly create the client using the key file\n",
    "client = bigquery.Client.from_service_account_json(key_path)\n",
    "\n",
    "sql_query = \"\"\"\n",
    "SELECT *\n",
    "FROM `raw.syn_fraud_transactions`\n",
    "\"\"\"\n",
    "\n",
    "df = client.query(sql_query).to_dataframe()"
   ]
  },
  {
   "cell_type": "code",
   "execution_count": 3,
   "id": "b8850a57",
   "metadata": {},
   "outputs": [],
   "source": [
    "#df.to_pickle('../raw_transactions.pkl')\n",
    "df = pd.read_pickle('../raw_transactions.pkl')"
   ]
  },
  {
   "cell_type": "code",
   "execution_count": 4,
   "id": "14f6a046",
   "metadata": {},
   "outputs": [
    {
     "name": "stdout",
     "output_type": "stream",
     "text": [
      "<class 'pandas.core.frame.DataFrame'>\n",
      "RangeIndex: 1361088 entries, 0 to 1361087\n",
      "Data columns (total 11 columns):\n",
      " #   Column          Non-Null Count    Dtype  \n",
      "---  ------          --------------    -----  \n",
      " 0   step            1361088 non-null  Int64  \n",
      " 1   type            1361088 non-null  object \n",
      " 2   amount          1361088 non-null  float64\n",
      " 3   nameOrig        1361088 non-null  object \n",
      " 4   oldbalanceOrg   1361088 non-null  float64\n",
      " 5   newbalanceOrig  1361088 non-null  float64\n",
      " 6   nameDest        1361088 non-null  object \n",
      " 7   oldbalanceDest  1361088 non-null  float64\n",
      " 8   newbalanceDest  1361088 non-null  float64\n",
      " 9   isFraud         1361088 non-null  Int64  \n",
      " 10  isFlaggedFraud  1361088 non-null  Int64  \n",
      "dtypes: Int64(3), float64(5), object(3)\n",
      "memory usage: 118.1+ MB\n"
     ]
    }
   ],
   "source": [
    "df.info()"
   ]
  },
  {
   "cell_type": "code",
   "execution_count": 5,
   "id": "903a6e57",
   "metadata": {},
   "outputs": [
    {
     "data": {
      "text/html": [
       "<div>\n",
       "<style scoped>\n",
       "    .dataframe tbody tr th:only-of-type {\n",
       "        vertical-align: middle;\n",
       "    }\n",
       "\n",
       "    .dataframe tbody tr th {\n",
       "        vertical-align: top;\n",
       "    }\n",
       "\n",
       "    .dataframe thead th {\n",
       "        text-align: right;\n",
       "    }\n",
       "</style>\n",
       "<table border=\"1\" class=\"dataframe\">\n",
       "  <thead>\n",
       "    <tr style=\"text-align: right;\">\n",
       "      <th></th>\n",
       "      <th>step</th>\n",
       "      <th>type</th>\n",
       "      <th>amount</th>\n",
       "      <th>nameOrig</th>\n",
       "      <th>oldbalanceOrg</th>\n",
       "      <th>newbalanceOrig</th>\n",
       "      <th>nameDest</th>\n",
       "      <th>oldbalanceDest</th>\n",
       "      <th>newbalanceDest</th>\n",
       "      <th>isFraud</th>\n",
       "      <th>isFlaggedFraud</th>\n",
       "    </tr>\n",
       "  </thead>\n",
       "  <tbody>\n",
       "    <tr>\n",
       "      <th>0</th>\n",
       "      <td>1</td>\n",
       "      <td>CASH_IN</td>\n",
       "      <td>35902.49</td>\n",
       "      <td>C839771540</td>\n",
       "      <td>371688.15</td>\n",
       "      <td>407590.65</td>\n",
       "      <td>C2001112025</td>\n",
       "      <td>49003.30</td>\n",
       "      <td>0.00</td>\n",
       "      <td>0</td>\n",
       "      <td>0</td>\n",
       "    </tr>\n",
       "    <tr>\n",
       "      <th>1</th>\n",
       "      <td>1</td>\n",
       "      <td>CASH_IN</td>\n",
       "      <td>65912.95</td>\n",
       "      <td>C180316302</td>\n",
       "      <td>640544.28</td>\n",
       "      <td>706457.23</td>\n",
       "      <td>C1330106945</td>\n",
       "      <td>104198.26</td>\n",
       "      <td>24044.18</td>\n",
       "      <td>0</td>\n",
       "      <td>0</td>\n",
       "    </tr>\n",
       "    <tr>\n",
       "      <th>2</th>\n",
       "      <td>1</td>\n",
       "      <td>CASH_IN</td>\n",
       "      <td>418688.27</td>\n",
       "      <td>C1756819670</td>\n",
       "      <td>1888091.55</td>\n",
       "      <td>2306779.82</td>\n",
       "      <td>C401424608</td>\n",
       "      <td>956455.03</td>\n",
       "      <td>1178808.14</td>\n",
       "      <td>0</td>\n",
       "      <td>0</td>\n",
       "    </tr>\n",
       "    <tr>\n",
       "      <th>3</th>\n",
       "      <td>1</td>\n",
       "      <td>CASH_IN</td>\n",
       "      <td>151862.38</td>\n",
       "      <td>C178604517</td>\n",
       "      <td>2617803.34</td>\n",
       "      <td>2769665.72</td>\n",
       "      <td>C920011586</td>\n",
       "      <td>158858.48</td>\n",
       "      <td>0.00</td>\n",
       "      <td>0</td>\n",
       "      <td>0</td>\n",
       "    </tr>\n",
       "    <tr>\n",
       "      <th>4</th>\n",
       "      <td>1</td>\n",
       "      <td>CASH_IN</td>\n",
       "      <td>228710.05</td>\n",
       "      <td>C57624756</td>\n",
       "      <td>2769665.72</td>\n",
       "      <td>2998375.78</td>\n",
       "      <td>C1297685781</td>\n",
       "      <td>743792.14</td>\n",
       "      <td>16997.22</td>\n",
       "      <td>0</td>\n",
       "      <td>0</td>\n",
       "    </tr>\n",
       "    <tr>\n",
       "      <th>...</th>\n",
       "      <td>...</td>\n",
       "      <td>...</td>\n",
       "      <td>...</td>\n",
       "      <td>...</td>\n",
       "      <td>...</td>\n",
       "      <td>...</td>\n",
       "      <td>...</td>\n",
       "      <td>...</td>\n",
       "      <td>...</td>\n",
       "      <td>...</td>\n",
       "      <td>...</td>\n",
       "    </tr>\n",
       "    <tr>\n",
       "      <th>1361083</th>\n",
       "      <td>138</td>\n",
       "      <td>TRANSFER</td>\n",
       "      <td>1326583.07</td>\n",
       "      <td>C189359242</td>\n",
       "      <td>0.00</td>\n",
       "      <td>0.00</td>\n",
       "      <td>C793302743</td>\n",
       "      <td>6114311.66</td>\n",
       "      <td>7440894.72</td>\n",
       "      <td>0</td>\n",
       "      <td>0</td>\n",
       "    </tr>\n",
       "    <tr>\n",
       "      <th>1361084</th>\n",
       "      <td>138</td>\n",
       "      <td>TRANSFER</td>\n",
       "      <td>651510.11</td>\n",
       "      <td>C1651586939</td>\n",
       "      <td>0.00</td>\n",
       "      <td>0.00</td>\n",
       "      <td>C1447542600</td>\n",
       "      <td>4064832.45</td>\n",
       "      <td>4716342.56</td>\n",
       "      <td>0</td>\n",
       "      <td>0</td>\n",
       "    </tr>\n",
       "    <tr>\n",
       "      <th>1361085</th>\n",
       "      <td>138</td>\n",
       "      <td>TRANSFER</td>\n",
       "      <td>773569.58</td>\n",
       "      <td>C1270408261</td>\n",
       "      <td>0.00</td>\n",
       "      <td>0.00</td>\n",
       "      <td>C1109945960</td>\n",
       "      <td>2142176.47</td>\n",
       "      <td>2915746.05</td>\n",
       "      <td>0</td>\n",
       "      <td>0</td>\n",
       "    </tr>\n",
       "    <tr>\n",
       "      <th>1361086</th>\n",
       "      <td>138</td>\n",
       "      <td>TRANSFER</td>\n",
       "      <td>269645.68</td>\n",
       "      <td>C1261311336</td>\n",
       "      <td>0.00</td>\n",
       "      <td>0.00</td>\n",
       "      <td>C1804726443</td>\n",
       "      <td>280699.28</td>\n",
       "      <td>550344.96</td>\n",
       "      <td>0</td>\n",
       "      <td>0</td>\n",
       "    </tr>\n",
       "    <tr>\n",
       "      <th>1361087</th>\n",
       "      <td>138</td>\n",
       "      <td>TRANSFER</td>\n",
       "      <td>375220.38</td>\n",
       "      <td>C900736700</td>\n",
       "      <td>0.00</td>\n",
       "      <td>0.00</td>\n",
       "      <td>C1878065792</td>\n",
       "      <td>545655.98</td>\n",
       "      <td>920876.36</td>\n",
       "      <td>0</td>\n",
       "      <td>0</td>\n",
       "    </tr>\n",
       "  </tbody>\n",
       "</table>\n",
       "<p>1361088 rows × 11 columns</p>\n",
       "</div>"
      ],
      "text/plain": [
       "         step      type      amount     nameOrig  oldbalanceOrg  \\\n",
       "0           1   CASH_IN    35902.49   C839771540      371688.15   \n",
       "1           1   CASH_IN    65912.95   C180316302      640544.28   \n",
       "2           1   CASH_IN   418688.27  C1756819670     1888091.55   \n",
       "3           1   CASH_IN   151862.38   C178604517     2617803.34   \n",
       "4           1   CASH_IN   228710.05    C57624756     2769665.72   \n",
       "...       ...       ...         ...          ...            ...   \n",
       "1361083   138  TRANSFER  1326583.07   C189359242           0.00   \n",
       "1361084   138  TRANSFER   651510.11  C1651586939           0.00   \n",
       "1361085   138  TRANSFER   773569.58  C1270408261           0.00   \n",
       "1361086   138  TRANSFER   269645.68  C1261311336           0.00   \n",
       "1361087   138  TRANSFER   375220.38   C900736700           0.00   \n",
       "\n",
       "         newbalanceOrig     nameDest  oldbalanceDest  newbalanceDest  isFraud  \\\n",
       "0             407590.65  C2001112025        49003.30            0.00        0   \n",
       "1             706457.23  C1330106945       104198.26        24044.18        0   \n",
       "2            2306779.82   C401424608       956455.03      1178808.14        0   \n",
       "3            2769665.72   C920011586       158858.48            0.00        0   \n",
       "4            2998375.78  C1297685781       743792.14        16997.22        0   \n",
       "...                 ...          ...             ...             ...      ...   \n",
       "1361083            0.00   C793302743      6114311.66      7440894.72        0   \n",
       "1361084            0.00  C1447542600      4064832.45      4716342.56        0   \n",
       "1361085            0.00  C1109945960      2142176.47      2915746.05        0   \n",
       "1361086            0.00  C1804726443       280699.28       550344.96        0   \n",
       "1361087            0.00  C1878065792       545655.98       920876.36        0   \n",
       "\n",
       "         isFlaggedFraud  \n",
       "0                     0  \n",
       "1                     0  \n",
       "2                     0  \n",
       "3                     0  \n",
       "4                     0  \n",
       "...                 ...  \n",
       "1361083               0  \n",
       "1361084               0  \n",
       "1361085               0  \n",
       "1361086               0  \n",
       "1361087               0  \n",
       "\n",
       "[1361088 rows x 11 columns]"
      ]
     },
     "execution_count": 5,
     "metadata": {},
     "output_type": "execute_result"
    }
   ],
   "source": [
    "df"
   ]
  },
  {
   "cell_type": "code",
   "execution_count": 33,
   "id": "f5c162e6",
   "metadata": {},
   "outputs": [
    {
     "data": {
      "text/plain": [
       "step              0\n",
       "type              0\n",
       "amount            0\n",
       "nameOrig          0\n",
       "oldbalanceOrg     0\n",
       "newbalanceOrig    0\n",
       "nameDest          0\n",
       "oldbalanceDest    0\n",
       "newbalanceDest    0\n",
       "isFraud           0\n",
       "isFlaggedFraud    0\n",
       "dtype: int64"
      ]
     },
     "execution_count": 33,
     "metadata": {},
     "output_type": "execute_result"
    }
   ],
   "source": [
    "df.isna().sum()"
   ]
  },
  {
   "cell_type": "code",
   "execution_count": 27,
   "id": "664a7df8",
   "metadata": {},
   "outputs": [
    {
     "name": "stdout",
     "output_type": "stream",
     "text": [
      "TRANSACTION TYPE ANALYSIS\n",
      "CASH_OUT    486218.00     35.72%\n",
      "PAYMENT     455066.00     33.43%\n",
      "CASH_IN     297771.00     21.88%\n",
      "TRANSFER    112999.00      8.30%\n",
      "DEBIT         9034.00      0.66%\n"
     ]
    },
    {
     "name": "stderr",
     "output_type": "stream",
     "text": [
      "/tmp/ipykernel_4764/932999481.py:6: FutureWarning: Series.__getitem__ treating keys as positions is deprecated. In a future version, integer keys will always be treated as labels (consistent with DataFrame behavior). To access a value by position, use `ser.iloc[pos]`\n",
      "  print(f\"{type_counts.index[i]:<10} {type_counts[i]:>10.2f}    {type_percentages[i]:>6.2f}%\")\n"
     ]
    }
   ],
   "source": [
    "print(\"TRANSACTION TYPE ANALYSIS\")\n",
    "type_counts = df['type'].value_counts()\n",
    "type_percentages = df['type'].value_counts(normalize=True) * 100\n",
    "\n",
    "for i in range(len(type_counts)):\n",
    "    print(f\"{type_counts.index[i]:<10} {type_counts[i]:>10.2f}    {type_percentages[i]:>6.2f}%\")"
   ]
  },
  {
   "cell_type": "code",
   "execution_count": 36,
   "id": "170dfa59",
   "metadata": {},
   "outputs": [
    {
     "data": {
      "text/html": [
       "<div>\n",
       "<style scoped>\n",
       "    .dataframe tbody tr th:only-of-type {\n",
       "        vertical-align: middle;\n",
       "    }\n",
       "\n",
       "    .dataframe tbody tr th {\n",
       "        vertical-align: top;\n",
       "    }\n",
       "\n",
       "    .dataframe thead th {\n",
       "        text-align: right;\n",
       "    }\n",
       "</style>\n",
       "<table border=\"1\" class=\"dataframe\">\n",
       "  <thead>\n",
       "    <tr style=\"text-align: right;\">\n",
       "      <th></th>\n",
       "      <th>step</th>\n",
       "      <th>type</th>\n",
       "      <th>amount</th>\n",
       "      <th>nameOrig</th>\n",
       "      <th>oldbalanceOrg</th>\n",
       "      <th>newbalanceOrig</th>\n",
       "      <th>nameDest</th>\n",
       "      <th>oldbalanceDest</th>\n",
       "      <th>newbalanceDest</th>\n",
       "      <th>isFraud</th>\n",
       "      <th>isFlaggedFraud</th>\n",
       "    </tr>\n",
       "  </thead>\n",
       "  <tbody>\n",
       "  </tbody>\n",
       "</table>\n",
       "</div>"
      ],
      "text/plain": [
       "Empty DataFrame\n",
       "Columns: [step, type, amount, nameOrig, oldbalanceOrg, newbalanceOrig, nameDest, oldbalanceDest, newbalanceDest, isFraud, isFlaggedFraud]\n",
       "Index: []"
      ]
     },
     "execution_count": 36,
     "metadata": {},
     "output_type": "execute_result"
    }
   ],
   "source": [
    "df[df.duplicated()]"
   ]
  },
  {
   "cell_type": "code",
   "execution_count": 46,
   "id": "22880004",
   "metadata": {},
   "outputs": [
    {
     "data": {
      "text/html": [
       "<div>\n",
       "<style scoped>\n",
       "    .dataframe tbody tr th:only-of-type {\n",
       "        vertical-align: middle;\n",
       "    }\n",
       "\n",
       "    .dataframe tbody tr th {\n",
       "        vertical-align: top;\n",
       "    }\n",
       "\n",
       "    .dataframe thead th {\n",
       "        text-align: right;\n",
       "    }\n",
       "</style>\n",
       "<table border=\"1\" class=\"dataframe\">\n",
       "  <thead>\n",
       "    <tr style=\"text-align: right;\">\n",
       "      <th></th>\n",
       "      <th>step_x</th>\n",
       "      <th>type_x</th>\n",
       "      <th>amount</th>\n",
       "      <th>nameOrig_x</th>\n",
       "      <th>oldbalanceOrg_x</th>\n",
       "      <th>newbalanceOrig_x</th>\n",
       "      <th>nameDest_x</th>\n",
       "      <th>oldbalanceDest_x</th>\n",
       "      <th>newbalanceDest_x</th>\n",
       "      <th>isFraud_x</th>\n",
       "      <th>...</th>\n",
       "      <th>step_y</th>\n",
       "      <th>type_y</th>\n",
       "      <th>nameOrig_y</th>\n",
       "      <th>oldbalanceOrg_y</th>\n",
       "      <th>newbalanceOrig_y</th>\n",
       "      <th>nameDest_y</th>\n",
       "      <th>oldbalanceDest_y</th>\n",
       "      <th>newbalanceDest_y</th>\n",
       "      <th>isFraud_y</th>\n",
       "      <th>isFlaggedFraud_y</th>\n",
       "    </tr>\n",
       "  </thead>\n",
       "  <tbody>\n",
       "  </tbody>\n",
       "</table>\n",
       "<p>0 rows × 21 columns</p>\n",
       "</div>"
      ],
      "text/plain": [
       "Empty DataFrame\n",
       "Columns: [step_x, type_x, amount, nameOrig_x, oldbalanceOrg_x, newbalanceOrig_x, nameDest_x, oldbalanceDest_x, newbalanceDest_x, isFraud_x, isFlaggedFraud_x, step_y, type_y, nameOrig_y, oldbalanceOrg_y, newbalanceOrig_y, nameDest_y, oldbalanceDest_y, newbalanceDest_y, isFraud_y, isFlaggedFraud_y]\n",
       "Index: []\n",
       "\n",
       "[0 rows x 21 columns]"
      ]
     },
     "execution_count": 46,
     "metadata": {},
     "output_type": "execute_result"
    }
   ],
   "source": [
    "# See if we have both sides of some transactions? No.\n",
    "pd.merge(\n",
    "    df[df['type'] == 'CASH_IN'], \n",
    "    df[df['type'] == 'CASH_OUT'], \n",
    "    left_on=['amount', 'nameOrig'], \n",
    "    right_on=['amount', 'nameDest'], \n",
    "    how='inner'\n",
    ")\n"
   ]
  },
  {
   "cell_type": "code",
   "execution_count": 57,
   "id": "3775de96",
   "metadata": {},
   "outputs": [
    {
     "data": {
      "text/plain": [
       "isFlaggedFraud\n",
       "0    1361088\n",
       "Name: count, dtype: Int64"
      ]
     },
     "execution_count": 57,
     "metadata": {},
     "output_type": "execute_result"
    }
   ],
   "source": [
    "# Seemingly not used.\n",
    "df.isFlaggedFraud.value_counts()"
   ]
  },
  {
   "cell_type": "code",
   "execution_count": 60,
   "id": "ff78ee21",
   "metadata": {},
   "outputs": [
    {
     "data": {
      "text/plain": [
       "isFraud\n",
       "0    1359520\n",
       "1       1568\n",
       "Name: count, dtype: Int64"
      ]
     },
     "execution_count": 60,
     "metadata": {},
     "output_type": "execute_result"
    }
   ],
   "source": [
    "df.isFraud.value_counts() #.sum() same total as isFlaggedFraud, no nans."
   ]
  },
  {
   "cell_type": "code",
   "execution_count": null,
   "id": "24b9b96c",
   "metadata": {},
   "outputs": [],
   "source": []
  }
 ],
 "metadata": {
  "kernelspec": {
   "display_name": "crane-E909CCJ5-py3.12",
   "language": "python",
   "name": "python3"
  },
  "language_info": {
   "codemirror_mode": {
    "name": "ipython",
    "version": 3
   },
   "file_extension": ".py",
   "mimetype": "text/x-python",
   "name": "python",
   "nbconvert_exporter": "python",
   "pygments_lexer": "ipython3",
   "version": "3.12.3"
  }
 },
 "nbformat": 4,
 "nbformat_minor": 5
}
